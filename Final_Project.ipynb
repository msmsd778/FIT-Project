{
  "nbformat": 4,
  "nbformat_minor": 0,
  "metadata": {
    "colab": {
      "name": "Final Project.ipynb",
      "provenance": [],
      "collapsed_sections": [],
      "authorship_tag": "ABX9TyPkJ0lCBPZK9A1ghkGOWxSO",
      "include_colab_link": true
    },
    "kernelspec": {
      "name": "python3",
      "display_name": "Python 3"
    },
    "language_info": {
      "name": "python"
    }
  },
  "cells": [
    {
      "cell_type": "markdown",
      "metadata": {
        "id": "view-in-github",
        "colab_type": "text"
      },
      "source": [
        "<a href=\"https://colab.research.google.com/github/msmsd778/FIT-Project/blob/main/Final_Project.ipynb\" target=\"_parent\"><img src=\"https://colab.research.google.com/assets/colab-badge.svg\" alt=\"Open In Colab\"/></a>"
      ]
    },
    {
      "cell_type": "markdown",
      "source": [
        "# Import Modules"
      ],
      "metadata": {
        "id": "96MNq4-jg94l"
      }
    },
    {
      "cell_type": "code",
      "execution_count": null,
      "metadata": {
        "id": "bhwMuRFkgn2z"
      },
      "outputs": [],
      "source": [
        "import numpy as np\n",
        "import pandas as pd\n",
        "import matplotlib.pyplot as plt\n",
        "import seaborn as sns\n",
        "import warnings\n",
        "warnings.filterwarnings('ignore')"
      ]
    },
    {
      "cell_type": "markdown",
      "source": [
        "# Preprocessing and Cleaning Data"
      ],
      "metadata": {
        "id": "19vZBCAihB8c"
      }
    },
    {
      "cell_type": "code",
      "source": [
        "df = pd.read_csv(\"Principles of Information Technology - phaze 2 - Sheet1.csv\")\n",
        "df.head(1)"
      ],
      "metadata": {
        "colab": {
          "base_uri": "https://localhost:8080/",
          "height": 283
        },
        "id": "8R7aNrSfg9g9",
        "outputId": "35ba5fac-79bd-4375-b366-fe93ccd7ef5a"
      },
      "execution_count": null,
      "outputs": [
        {
          "output_type": "execute_result",
          "data": {
            "text/html": [
              "\n",
              "  <div id=\"df-5310b7d2-cdcb-4fda-b8d1-c09da97d3f1d\">\n",
              "    <div class=\"colab-df-container\">\n",
              "      <div>\n",
              "<style scoped>\n",
              "    .dataframe tbody tr th:only-of-type {\n",
              "        vertical-align: middle;\n",
              "    }\n",
              "\n",
              "    .dataframe tbody tr th {\n",
              "        vertical-align: top;\n",
              "    }\n",
              "\n",
              "    .dataframe thead th {\n",
              "        text-align: right;\n",
              "    }\n",
              "</style>\n",
              "<table border=\"1\" class=\"dataframe\">\n",
              "  <thead>\n",
              "    <tr style=\"text-align: right;\">\n",
              "      <th></th>\n",
              "      <th>Student Nu</th>\n",
              "      <th>Team</th>\n",
              "      <th>Company</th>\n",
              "      <th>Company Site</th>\n",
              "      <th>Country</th>\n",
              "      <th>Foundations date</th>\n",
              "      <th>Type</th>\n",
              "      <th>Sector</th>\n",
              "      <th>Categories</th>\n",
              "      <th>Tags</th>\n",
              "      <th>Customer Segments</th>\n",
              "      <th>Value Propositions</th>\n",
              "      <th>Channels</th>\n",
              "      <th>Customer Relationships</th>\n",
              "      <th>Revenue Streams</th>\n",
              "      <th>Key Resources</th>\n",
              "      <th>Key Activities</th>\n",
              "      <th>Key Partnerships</th>\n",
              "      <th>Cost Structure</th>\n",
              "      <th>URL Address</th>\n",
              "      <th>BM Date</th>\n",
              "      <th>Customer Segments Tags</th>\n",
              "      <th>Value Propositions Tags</th>\n",
              "      <th>Channels Tags</th>\n",
              "      <th>Customer Relationships Tags</th>\n",
              "      <th>Revenue Streams Tags</th>\n",
              "      <th>Key Resources Tags</th>\n",
              "      <th>Key Activities Tags</th>\n",
              "      <th>Key Partnerships Tags</th>\n",
              "      <th>Cost Structure Tags</th>\n",
              "    </tr>\n",
              "  </thead>\n",
              "  <tbody>\n",
              "    <tr>\n",
              "      <th>0</th>\n",
              "      <td>983623027</td>\n",
              "      <td>Amen</td>\n",
              "      <td>3RD Home</td>\n",
              "      <td>http://www.3rdhome.com/</td>\n",
              "      <td>Tennessee</td>\n",
              "      <td>2009</td>\n",
              "      <td>Private</td>\n",
              "      <td>Consumer Services</td>\n",
              "      <td>Travel</td>\n",
              "      <td>luxury villas, Tours, lifestyle, experiences, ...</td>\n",
              "      <td>Owners of high-end luxury vacation homes |  Tr...</td>\n",
              "      <td>To create the finest luxury second home exchan...</td>\n",
              "      <td>3rdhome.com.Live chat | Blog |Phone |Email |Tr...</td>\n",
              "      <td>Membership\\nPremier home exchange experience\\n...</td>\n",
              "      <td>$2500 Initiation Fee* |\\nCommissions - the pri...</td>\n",
              "      <td>Over 8900 properties owned by householders |\\n...</td>\n",
              "      <td>System Maintenance |\\nUsers Support |\\nCity pa...</td>\n",
              "      <td>Householders |\\nVilla staff |\\nInsurers |\\nAff...</td>\n",
              "      <td>System maintenance |\\nInsurance |\\nStaff compe...</td>\n",
              "      <td>https://vizologi.com/business-strategy-canvas/...</td>\n",
              "      <td>NaN</td>\n",
              "      <td>niche | niche</td>\n",
              "      <td>performance | accessibility | price | accessib...</td>\n",
              "      <td>owned direct | owned direct | owned direct | o...</td>\n",
              "      <td>self service | co-creation | automated service...</td>\n",
              "      <td>initiation fee | brokerage fees</td>\n",
              "      <td>properties | facilities | staff</td>\n",
              "      <td>services | problem solving | marketing</td>\n",
              "      <td>supply chain | supply chain | resource acquisi...</td>\n",
              "      <td>variable cost | fixed cost</td>\n",
              "    </tr>\n",
              "  </tbody>\n",
              "</table>\n",
              "</div>\n",
              "      <button class=\"colab-df-convert\" onclick=\"convertToInteractive('df-5310b7d2-cdcb-4fda-b8d1-c09da97d3f1d')\"\n",
              "              title=\"Convert this dataframe to an interactive table.\"\n",
              "              style=\"display:none;\">\n",
              "        \n",
              "  <svg xmlns=\"http://www.w3.org/2000/svg\" height=\"24px\"viewBox=\"0 0 24 24\"\n",
              "       width=\"24px\">\n",
              "    <path d=\"M0 0h24v24H0V0z\" fill=\"none\"/>\n",
              "    <path d=\"M18.56 5.44l.94 2.06.94-2.06 2.06-.94-2.06-.94-.94-2.06-.94 2.06-2.06.94zm-11 1L8.5 8.5l.94-2.06 2.06-.94-2.06-.94L8.5 2.5l-.94 2.06-2.06.94zm10 10l.94 2.06.94-2.06 2.06-.94-2.06-.94-.94-2.06-.94 2.06-2.06.94z\"/><path d=\"M17.41 7.96l-1.37-1.37c-.4-.4-.92-.59-1.43-.59-.52 0-1.04.2-1.43.59L10.3 9.45l-7.72 7.72c-.78.78-.78 2.05 0 2.83L4 21.41c.39.39.9.59 1.41.59.51 0 1.02-.2 1.41-.59l7.78-7.78 2.81-2.81c.8-.78.8-2.07 0-2.86zM5.41 20L4 18.59l7.72-7.72 1.47 1.35L5.41 20z\"/>\n",
              "  </svg>\n",
              "      </button>\n",
              "      \n",
              "  <style>\n",
              "    .colab-df-container {\n",
              "      display:flex;\n",
              "      flex-wrap:wrap;\n",
              "      gap: 12px;\n",
              "    }\n",
              "\n",
              "    .colab-df-convert {\n",
              "      background-color: #E8F0FE;\n",
              "      border: none;\n",
              "      border-radius: 50%;\n",
              "      cursor: pointer;\n",
              "      display: none;\n",
              "      fill: #1967D2;\n",
              "      height: 32px;\n",
              "      padding: 0 0 0 0;\n",
              "      width: 32px;\n",
              "    }\n",
              "\n",
              "    .colab-df-convert:hover {\n",
              "      background-color: #E2EBFA;\n",
              "      box-shadow: 0px 1px 2px rgba(60, 64, 67, 0.3), 0px 1px 3px 1px rgba(60, 64, 67, 0.15);\n",
              "      fill: #174EA6;\n",
              "    }\n",
              "\n",
              "    [theme=dark] .colab-df-convert {\n",
              "      background-color: #3B4455;\n",
              "      fill: #D2E3FC;\n",
              "    }\n",
              "\n",
              "    [theme=dark] .colab-df-convert:hover {\n",
              "      background-color: #434B5C;\n",
              "      box-shadow: 0px 1px 3px 1px rgba(0, 0, 0, 0.15);\n",
              "      filter: drop-shadow(0px 1px 2px rgba(0, 0, 0, 0.3));\n",
              "      fill: #FFFFFF;\n",
              "    }\n",
              "  </style>\n",
              "\n",
              "      <script>\n",
              "        const buttonEl =\n",
              "          document.querySelector('#df-5310b7d2-cdcb-4fda-b8d1-c09da97d3f1d button.colab-df-convert');\n",
              "        buttonEl.style.display =\n",
              "          google.colab.kernel.accessAllowed ? 'block' : 'none';\n",
              "\n",
              "        async function convertToInteractive(key) {\n",
              "          const element = document.querySelector('#df-5310b7d2-cdcb-4fda-b8d1-c09da97d3f1d');\n",
              "          const dataTable =\n",
              "            await google.colab.kernel.invokeFunction('convertToInteractive',\n",
              "                                                     [key], {});\n",
              "          if (!dataTable) return;\n",
              "\n",
              "          const docLinkHtml = 'Like what you see? Visit the ' +\n",
              "            '<a target=\"_blank\" href=https://colab.research.google.com/notebooks/data_table.ipynb>data table notebook</a>'\n",
              "            + ' to learn more about interactive tables.';\n",
              "          element.innerHTML = '';\n",
              "          dataTable['output_type'] = 'display_data';\n",
              "          await google.colab.output.renderOutput(dataTable, element);\n",
              "          const docLink = document.createElement('div');\n",
              "          docLink.innerHTML = docLinkHtml;\n",
              "          element.appendChild(docLink);\n",
              "        }\n",
              "      </script>\n",
              "    </div>\n",
              "  </div>\n",
              "  "
            ],
            "text/plain": [
              "  Student Nu   ...          Cost Structure Tags\n",
              "0   983623027  ...  variable cost | fixed cost \n",
              "\n",
              "[1 rows x 30 columns]"
            ]
          },
          "metadata": {},
          "execution_count": 9
        }
      ]
    },
    {
      "cell_type": "code",
      "source": [
        "df.drop_duplicates(inplace = True)"
      ],
      "metadata": {
        "id": "Lg-Nf0GJiWEl"
      },
      "execution_count": null,
      "outputs": []
    },
    {
      "cell_type": "code",
      "source": [
        "df.drop(['Student Nu ', 'Team', 'Company Site', 'URL Address', 'BM Date'], axis=1, inplace=True)"
      ],
      "metadata": {
        "id": "YmptsuFWhvHt"
      },
      "execution_count": null,
      "outputs": []
    },
    {
      "cell_type": "code",
      "source": [
        "df.head()"
      ],
      "metadata": {
        "colab": {
          "base_uri": "https://localhost:8080/",
          "height": 791
        },
        "id": "XpZabf4Ojdt-",
        "outputId": "a61040f6-dd5e-4e3f-bd19-9a9808e55d11"
      },
      "execution_count": null,
      "outputs": [
        {
          "output_type": "execute_result",
          "data": {
            "text/html": [
              "\n",
              "  <div id=\"df-dc36aa00-aa4c-480c-b12a-5b61e9476700\">\n",
              "    <div class=\"colab-df-container\">\n",
              "      <div>\n",
              "<style scoped>\n",
              "    .dataframe tbody tr th:only-of-type {\n",
              "        vertical-align: middle;\n",
              "    }\n",
              "\n",
              "    .dataframe tbody tr th {\n",
              "        vertical-align: top;\n",
              "    }\n",
              "\n",
              "    .dataframe thead th {\n",
              "        text-align: right;\n",
              "    }\n",
              "</style>\n",
              "<table border=\"1\" class=\"dataframe\">\n",
              "  <thead>\n",
              "    <tr style=\"text-align: right;\">\n",
              "      <th></th>\n",
              "      <th>Company</th>\n",
              "      <th>Country</th>\n",
              "      <th>Foundations date</th>\n",
              "      <th>Type</th>\n",
              "      <th>Sector</th>\n",
              "      <th>Categories</th>\n",
              "      <th>Tags</th>\n",
              "      <th>Customer Segments</th>\n",
              "      <th>Value Propositions</th>\n",
              "      <th>Channels</th>\n",
              "      <th>Customer Relationships</th>\n",
              "      <th>Revenue Streams</th>\n",
              "      <th>Key Resources</th>\n",
              "      <th>Key Activities</th>\n",
              "      <th>Key Partnerships</th>\n",
              "      <th>Cost Structure</th>\n",
              "      <th>Customer Segments Tags</th>\n",
              "      <th>Value Propositions Tags</th>\n",
              "      <th>Channels Tags</th>\n",
              "      <th>Customer Relationships Tags</th>\n",
              "      <th>Revenue Streams Tags</th>\n",
              "      <th>Key Resources Tags</th>\n",
              "      <th>Key Activities Tags</th>\n",
              "      <th>Key Partnerships Tags</th>\n",
              "      <th>Cost Structure Tags</th>\n",
              "    </tr>\n",
              "  </thead>\n",
              "  <tbody>\n",
              "    <tr>\n",
              "      <th>0</th>\n",
              "      <td>3RD Home</td>\n",
              "      <td>Tennessee</td>\n",
              "      <td>2009</td>\n",
              "      <td>Private</td>\n",
              "      <td>Consumer Services</td>\n",
              "      <td>Travel</td>\n",
              "      <td>luxury villas, Tours, lifestyle, experiences, ...</td>\n",
              "      <td>Owners of high-end luxury vacation homes |  Tr...</td>\n",
              "      <td>To create the finest luxury second home exchan...</td>\n",
              "      <td>3rdhome.com.Live chat | Blog |Phone |Email |Tr...</td>\n",
              "      <td>Membership\\nPremier home exchange experience\\n...</td>\n",
              "      <td>$2500 Initiation Fee* |\\nCommissions - the pri...</td>\n",
              "      <td>Over 8900 properties owned by householders |\\n...</td>\n",
              "      <td>System Maintenance |\\nUsers Support |\\nCity pa...</td>\n",
              "      <td>Householders |\\nVilla staff |\\nInsurers |\\nAff...</td>\n",
              "      <td>System maintenance |\\nInsurance |\\nStaff compe...</td>\n",
              "      <td>niche | niche</td>\n",
              "      <td>performance | accessibility | price | accessib...</td>\n",
              "      <td>owned direct | owned direct | owned direct | o...</td>\n",
              "      <td>self service | co-creation | automated service...</td>\n",
              "      <td>initiation fee | brokerage fees</td>\n",
              "      <td>properties | facilities | staff</td>\n",
              "      <td>services | problem solving | marketing</td>\n",
              "      <td>supply chain | supply chain | resource acquisi...</td>\n",
              "      <td>variable cost | fixed cost</td>\n",
              "    </tr>\n",
              "    <tr>\n",
              "      <th>1</th>\n",
              "      <td>Expedia</td>\n",
              "      <td>Washington</td>\n",
              "      <td>1996</td>\n",
              "      <td>Public</td>\n",
              "      <td>Consumer Services</td>\n",
              "      <td>Travel</td>\n",
              "      <td>ticketing, travel, transportation, lodging pro...</td>\n",
              "      <td>Travelers for recreation or business |\\nTouris...</td>\n",
              "      <td>Paperless itineraries |\\nFast &amp; easy booking |...</td>\n",
              "      <td>Websites |\\nMobile App |\\nApp store |\\nGoogle ...</td>\n",
              "      <td>Travel fare aggregator websites and travel met...</td>\n",
              "      <td>Advertising |\\nCommissions (bookings, car rent...</td>\n",
              "      <td>The company operates more than 200 travel book...</td>\n",
              "      <td>Bid process |\\nAdvertising services |\\nCorpora...</td>\n",
              "      <td>Liberty Expedia Holdings owner |\\nExpedia Affi...</td>\n",
              "      <td>Office |\\nEmployees |\\nCompensation |\\nContrac...</td>\n",
              "      <td>segmented | multi-sided</td>\n",
              "      <td>accessibility | convenience | convenience | ac...</td>\n",
              "      <td>owned direct | owned direct | owned direct | o...</td>\n",
              "      <td>automated service | self service | co-creation...</td>\n",
              "      <td>advertising | brokerage fees | brokerage fees</td>\n",
              "      <td>facilities | staff | facilities</td>\n",
              "      <td>problem solving  | services | marketing | deve...</td>\n",
              "      <td>stakeholder | supply chain | partner | subsidi...</td>\n",
              "      <td>fixed cost | variable costs</td>\n",
              "    </tr>\n",
              "    <tr>\n",
              "      <th>2</th>\n",
              "      <td>Hapimag</td>\n",
              "      <td>Switzerland</td>\n",
              "      <td>1963</td>\n",
              "      <td>Private</td>\n",
              "      <td>Consumer Services</td>\n",
              "      <td>Travel</td>\n",
              "      <td>tourism, investment, vacation properties, shar...</td>\n",
              "      <td>Members of the community</td>\n",
              "      <td>The business model of Hapimag is the following...</td>\n",
              "      <td>Website |\\nApplication |\\nTravel agencies |\\nE...</td>\n",
              "      <td>A quality management system is to ensure the h...</td>\n",
              "      <td>They are depending on the country for a two-be...</td>\n",
              "      <td>Approximately 130'000 Shareholders and Members...</td>\n",
              "      <td>Management |\\nFacilities Maintenance |\\nServic...</td>\n",
              "      <td>Shareholders |\\nFood suppliers |\\nBedding Supp...</td>\n",
              "      <td>Real State |\\nMaintenance |\\nServices |\\nEmplo...</td>\n",
              "      <td>mass</td>\n",
              "      <td>newness | customization | accessibility</td>\n",
              "      <td>owned direct | owned direct | partner indirect...</td>\n",
              "      <td>co-creation | automated service | personal ass...</td>\n",
              "      <td>usage fee | usage fee | usage fee | usage fee</td>\n",
              "      <td>staff | links</td>\n",
              "      <td>services | development | network</td>\n",
              "      <td>stakeholder | supply chain | supply chain | pa...</td>\n",
              "      <td>fixed cost | variable costs | economy of scale</td>\n",
              "    </tr>\n",
              "    <tr>\n",
              "      <th>3</th>\n",
              "      <td>Marriott International</td>\n",
              "      <td>Maryland</td>\n",
              "      <td>1927</td>\n",
              "      <td>Public</td>\n",
              "      <td>Consumer Services</td>\n",
              "      <td>Travel</td>\n",
              "      <td>hospitality, tourism, luxury, hotels, resorts,...</td>\n",
              "      <td>Focus on business customers |\\nPlus holiday ac...</td>\n",
              "      <td>Marriott International signs in at the top of ...</td>\n",
              "      <td>Hotels &amp; Resorts\\nWebsite\\nTravel aggregators\\...</td>\n",
              "      <td>Website\\nOnline booking\\nOn site location\\nMar...</td>\n",
              "      <td>Booking\\nAdditional services\\nApplication fee ...</td>\n",
              "      <td>Brand |\\nNearly 6000 hotels in 120 countries |...</td>\n",
              "      <td>Hotels &amp; Resorts management\\nFranchisees (prov...</td>\n",
              "      <td>Franchises (a broad portfolio of hotels and re...</td>\n",
              "      <td>Brand\\nImage\\nStandards\\nKnow-how\\nEmployees s...</td>\n",
              "      <td>niche | niche</td>\n",
              "      <td>performance | performance | customization | pe...</td>\n",
              "      <td>owned direct | owned direct | partner indirect...</td>\n",
              "      <td>self service | automated service | personal as...</td>\n",
              "      <td>usage fee | usage fee | licensing | usage fee</td>\n",
              "      <td>value | properties | staff | facilities</td>\n",
              "      <td>marketing | problem solving | platform | servi...</td>\n",
              "      <td>supply chain | subsidiary | partner | supply c...</td>\n",
              "      <td>economy of scale | fixed cost</td>\n",
              "    </tr>\n",
              "    <tr>\n",
              "      <th>4</th>\n",
              "      <td>Priceline</td>\n",
              "      <td>Connecticut</td>\n",
              "      <td>1997</td>\n",
              "      <td>Subsidiary</td>\n",
              "      <td>Consumer Services</td>\n",
              "      <td>Travel</td>\n",
              "      <td>collaboration, internet. ticketina, travel, tr...</td>\n",
              "      <td>Travelers for recreation or business\\nTouristi...</td>\n",
              "      <td>Travelers (to help users obtain discount rates...</td>\n",
              "      <td>Websites\\nMobile Apps\\nApp store\\nGoogle Play\\...</td>\n",
              "      <td>Online travel company\\nExpress Deals\\nSecurity...</td>\n",
              "      <td>Advertising\\nCommissions (bookings, car rental...</td>\n",
              "      <td>Over 295.000 hotels worldwide affiliated\\nCont...</td>\n",
              "      <td>Bid process\\nAffiliation program\\nSoftware dev...</td>\n",
              "      <td>The Priceline Group (owner)\\nVisa\\nAffiliates ...</td>\n",
              "      <td>Software development\\nOperations\\nData aggrega...</td>\n",
              "      <td>segmented | multi-sided</td>\n",
              "      <td>cost reduction | brand</td>\n",
              "      <td>owned direct | owned direct | owned direct | o...</td>\n",
              "      <td>automated service | self service | co-creation...</td>\n",
              "      <td>advertising | brokerage fees | brokerage fees</td>\n",
              "      <td>cooperation | value | advertisement | staff | ...</td>\n",
              "      <td>marketing | development | network | services</td>\n",
              "      <td>stakeholder | partner | supply chain | partner</td>\n",
              "      <td>economy of scale | fixed cost | variable cost</td>\n",
              "    </tr>\n",
              "  </tbody>\n",
              "</table>\n",
              "</div>\n",
              "      <button class=\"colab-df-convert\" onclick=\"convertToInteractive('df-dc36aa00-aa4c-480c-b12a-5b61e9476700')\"\n",
              "              title=\"Convert this dataframe to an interactive table.\"\n",
              "              style=\"display:none;\">\n",
              "        \n",
              "  <svg xmlns=\"http://www.w3.org/2000/svg\" height=\"24px\"viewBox=\"0 0 24 24\"\n",
              "       width=\"24px\">\n",
              "    <path d=\"M0 0h24v24H0V0z\" fill=\"none\"/>\n",
              "    <path d=\"M18.56 5.44l.94 2.06.94-2.06 2.06-.94-2.06-.94-.94-2.06-.94 2.06-2.06.94zm-11 1L8.5 8.5l.94-2.06 2.06-.94-2.06-.94L8.5 2.5l-.94 2.06-2.06.94zm10 10l.94 2.06.94-2.06 2.06-.94-2.06-.94-.94-2.06-.94 2.06-2.06.94z\"/><path d=\"M17.41 7.96l-1.37-1.37c-.4-.4-.92-.59-1.43-.59-.52 0-1.04.2-1.43.59L10.3 9.45l-7.72 7.72c-.78.78-.78 2.05 0 2.83L4 21.41c.39.39.9.59 1.41.59.51 0 1.02-.2 1.41-.59l7.78-7.78 2.81-2.81c.8-.78.8-2.07 0-2.86zM5.41 20L4 18.59l7.72-7.72 1.47 1.35L5.41 20z\"/>\n",
              "  </svg>\n",
              "      </button>\n",
              "      \n",
              "  <style>\n",
              "    .colab-df-container {\n",
              "      display:flex;\n",
              "      flex-wrap:wrap;\n",
              "      gap: 12px;\n",
              "    }\n",
              "\n",
              "    .colab-df-convert {\n",
              "      background-color: #E8F0FE;\n",
              "      border: none;\n",
              "      border-radius: 50%;\n",
              "      cursor: pointer;\n",
              "      display: none;\n",
              "      fill: #1967D2;\n",
              "      height: 32px;\n",
              "      padding: 0 0 0 0;\n",
              "      width: 32px;\n",
              "    }\n",
              "\n",
              "    .colab-df-convert:hover {\n",
              "      background-color: #E2EBFA;\n",
              "      box-shadow: 0px 1px 2px rgba(60, 64, 67, 0.3), 0px 1px 3px 1px rgba(60, 64, 67, 0.15);\n",
              "      fill: #174EA6;\n",
              "    }\n",
              "\n",
              "    [theme=dark] .colab-df-convert {\n",
              "      background-color: #3B4455;\n",
              "      fill: #D2E3FC;\n",
              "    }\n",
              "\n",
              "    [theme=dark] .colab-df-convert:hover {\n",
              "      background-color: #434B5C;\n",
              "      box-shadow: 0px 1px 3px 1px rgba(0, 0, 0, 0.15);\n",
              "      filter: drop-shadow(0px 1px 2px rgba(0, 0, 0, 0.3));\n",
              "      fill: #FFFFFF;\n",
              "    }\n",
              "  </style>\n",
              "\n",
              "      <script>\n",
              "        const buttonEl =\n",
              "          document.querySelector('#df-dc36aa00-aa4c-480c-b12a-5b61e9476700 button.colab-df-convert');\n",
              "        buttonEl.style.display =\n",
              "          google.colab.kernel.accessAllowed ? 'block' : 'none';\n",
              "\n",
              "        async function convertToInteractive(key) {\n",
              "          const element = document.querySelector('#df-dc36aa00-aa4c-480c-b12a-5b61e9476700');\n",
              "          const dataTable =\n",
              "            await google.colab.kernel.invokeFunction('convertToInteractive',\n",
              "                                                     [key], {});\n",
              "          if (!dataTable) return;\n",
              "\n",
              "          const docLinkHtml = 'Like what you see? Visit the ' +\n",
              "            '<a target=\"_blank\" href=https://colab.research.google.com/notebooks/data_table.ipynb>data table notebook</a>'\n",
              "            + ' to learn more about interactive tables.';\n",
              "          element.innerHTML = '';\n",
              "          dataTable['output_type'] = 'display_data';\n",
              "          await google.colab.output.renderOutput(dataTable, element);\n",
              "          const docLink = document.createElement('div');\n",
              "          docLink.innerHTML = docLinkHtml;\n",
              "          element.appendChild(docLink);\n",
              "        }\n",
              "      </script>\n",
              "    </div>\n",
              "  </div>\n",
              "  "
            ],
            "text/plain": [
              "                  Company  ...                             Cost Structure Tags\n",
              "0                3RD Home  ...                     variable cost | fixed cost \n",
              "1                 Expedia  ...                     fixed cost | variable costs\n",
              "2                 Hapimag  ...  fixed cost | variable costs | economy of scale\n",
              "3  Marriott International  ...                   economy of scale | fixed cost\n",
              "4               Priceline  ...   economy of scale | fixed cost | variable cost\n",
              "\n",
              "[5 rows x 25 columns]"
            ]
          },
          "metadata": {},
          "execution_count": 18
        }
      ]
    },
    {
      "cell_type": "code",
      "source": [
        "df.dropna(inplace=True)\n",
        "df.head(1)"
      ],
      "metadata": {
        "colab": {
          "base_uri": "https://localhost:8080/",
          "height": 283
        },
        "id": "610SYxrCjmg2",
        "outputId": "a6f05250-f30b-4aa9-8ffe-85f0d447db3e"
      },
      "execution_count": null,
      "outputs": [
        {
          "output_type": "execute_result",
          "data": {
            "text/html": [
              "\n",
              "  <div id=\"df-4838a042-f315-4d9b-9187-66898dedcf0e\">\n",
              "    <div class=\"colab-df-container\">\n",
              "      <div>\n",
              "<style scoped>\n",
              "    .dataframe tbody tr th:only-of-type {\n",
              "        vertical-align: middle;\n",
              "    }\n",
              "\n",
              "    .dataframe tbody tr th {\n",
              "        vertical-align: top;\n",
              "    }\n",
              "\n",
              "    .dataframe thead th {\n",
              "        text-align: right;\n",
              "    }\n",
              "</style>\n",
              "<table border=\"1\" class=\"dataframe\">\n",
              "  <thead>\n",
              "    <tr style=\"text-align: right;\">\n",
              "      <th></th>\n",
              "      <th>Company</th>\n",
              "      <th>Country</th>\n",
              "      <th>Foundations date</th>\n",
              "      <th>Type</th>\n",
              "      <th>Sector</th>\n",
              "      <th>Categories</th>\n",
              "      <th>Tags</th>\n",
              "      <th>Customer Segments</th>\n",
              "      <th>Value Propositions</th>\n",
              "      <th>Channels</th>\n",
              "      <th>Customer Relationships</th>\n",
              "      <th>Revenue Streams</th>\n",
              "      <th>Key Resources</th>\n",
              "      <th>Key Activities</th>\n",
              "      <th>Key Partnerships</th>\n",
              "      <th>Cost Structure</th>\n",
              "      <th>Customer Segments Tags</th>\n",
              "      <th>Value Propositions Tags</th>\n",
              "      <th>Channels Tags</th>\n",
              "      <th>Customer Relationships Tags</th>\n",
              "      <th>Revenue Streams Tags</th>\n",
              "      <th>Key Resources Tags</th>\n",
              "      <th>Key Activities Tags</th>\n",
              "      <th>Key Partnerships Tags</th>\n",
              "      <th>Cost Structure Tags</th>\n",
              "    </tr>\n",
              "  </thead>\n",
              "  <tbody>\n",
              "    <tr>\n",
              "      <th>0</th>\n",
              "      <td>3RD Home</td>\n",
              "      <td>Tennessee</td>\n",
              "      <td>2009</td>\n",
              "      <td>Private</td>\n",
              "      <td>Consumer Services</td>\n",
              "      <td>Travel</td>\n",
              "      <td>luxury villas, Tours, lifestyle, experiences, ...</td>\n",
              "      <td>Owners of high-end luxury vacation homes |  Tr...</td>\n",
              "      <td>To create the finest luxury second home exchan...</td>\n",
              "      <td>3rdhome.com.Live chat | Blog |Phone |Email |Tr...</td>\n",
              "      <td>Membership\\nPremier home exchange experience\\n...</td>\n",
              "      <td>$2500 Initiation Fee* |\\nCommissions - the pri...</td>\n",
              "      <td>Over 8900 properties owned by householders |\\n...</td>\n",
              "      <td>System Maintenance |\\nUsers Support |\\nCity pa...</td>\n",
              "      <td>Householders |\\nVilla staff |\\nInsurers |\\nAff...</td>\n",
              "      <td>System maintenance |\\nInsurance |\\nStaff compe...</td>\n",
              "      <td>niche | niche</td>\n",
              "      <td>performance | accessibility | price | accessib...</td>\n",
              "      <td>owned direct | owned direct | owned direct | o...</td>\n",
              "      <td>self service | co-creation | automated service...</td>\n",
              "      <td>initiation fee | brokerage fees</td>\n",
              "      <td>properties | facilities | staff</td>\n",
              "      <td>services | problem solving | marketing</td>\n",
              "      <td>supply chain | supply chain | resource acquisi...</td>\n",
              "      <td>variable cost | fixed cost</td>\n",
              "    </tr>\n",
              "  </tbody>\n",
              "</table>\n",
              "</div>\n",
              "      <button class=\"colab-df-convert\" onclick=\"convertToInteractive('df-4838a042-f315-4d9b-9187-66898dedcf0e')\"\n",
              "              title=\"Convert this dataframe to an interactive table.\"\n",
              "              style=\"display:none;\">\n",
              "        \n",
              "  <svg xmlns=\"http://www.w3.org/2000/svg\" height=\"24px\"viewBox=\"0 0 24 24\"\n",
              "       width=\"24px\">\n",
              "    <path d=\"M0 0h24v24H0V0z\" fill=\"none\"/>\n",
              "    <path d=\"M18.56 5.44l.94 2.06.94-2.06 2.06-.94-2.06-.94-.94-2.06-.94 2.06-2.06.94zm-11 1L8.5 8.5l.94-2.06 2.06-.94-2.06-.94L8.5 2.5l-.94 2.06-2.06.94zm10 10l.94 2.06.94-2.06 2.06-.94-2.06-.94-.94-2.06-.94 2.06-2.06.94z\"/><path d=\"M17.41 7.96l-1.37-1.37c-.4-.4-.92-.59-1.43-.59-.52 0-1.04.2-1.43.59L10.3 9.45l-7.72 7.72c-.78.78-.78 2.05 0 2.83L4 21.41c.39.39.9.59 1.41.59.51 0 1.02-.2 1.41-.59l7.78-7.78 2.81-2.81c.8-.78.8-2.07 0-2.86zM5.41 20L4 18.59l7.72-7.72 1.47 1.35L5.41 20z\"/>\n",
              "  </svg>\n",
              "      </button>\n",
              "      \n",
              "  <style>\n",
              "    .colab-df-container {\n",
              "      display:flex;\n",
              "      flex-wrap:wrap;\n",
              "      gap: 12px;\n",
              "    }\n",
              "\n",
              "    .colab-df-convert {\n",
              "      background-color: #E8F0FE;\n",
              "      border: none;\n",
              "      border-radius: 50%;\n",
              "      cursor: pointer;\n",
              "      display: none;\n",
              "      fill: #1967D2;\n",
              "      height: 32px;\n",
              "      padding: 0 0 0 0;\n",
              "      width: 32px;\n",
              "    }\n",
              "\n",
              "    .colab-df-convert:hover {\n",
              "      background-color: #E2EBFA;\n",
              "      box-shadow: 0px 1px 2px rgba(60, 64, 67, 0.3), 0px 1px 3px 1px rgba(60, 64, 67, 0.15);\n",
              "      fill: #174EA6;\n",
              "    }\n",
              "\n",
              "    [theme=dark] .colab-df-convert {\n",
              "      background-color: #3B4455;\n",
              "      fill: #D2E3FC;\n",
              "    }\n",
              "\n",
              "    [theme=dark] .colab-df-convert:hover {\n",
              "      background-color: #434B5C;\n",
              "      box-shadow: 0px 1px 3px 1px rgba(0, 0, 0, 0.15);\n",
              "      filter: drop-shadow(0px 1px 2px rgba(0, 0, 0, 0.3));\n",
              "      fill: #FFFFFF;\n",
              "    }\n",
              "  </style>\n",
              "\n",
              "      <script>\n",
              "        const buttonEl =\n",
              "          document.querySelector('#df-4838a042-f315-4d9b-9187-66898dedcf0e button.colab-df-convert');\n",
              "        buttonEl.style.display =\n",
              "          google.colab.kernel.accessAllowed ? 'block' : 'none';\n",
              "\n",
              "        async function convertToInteractive(key) {\n",
              "          const element = document.querySelector('#df-4838a042-f315-4d9b-9187-66898dedcf0e');\n",
              "          const dataTable =\n",
              "            await google.colab.kernel.invokeFunction('convertToInteractive',\n",
              "                                                     [key], {});\n",
              "          if (!dataTable) return;\n",
              "\n",
              "          const docLinkHtml = 'Like what you see? Visit the ' +\n",
              "            '<a target=\"_blank\" href=https://colab.research.google.com/notebooks/data_table.ipynb>data table notebook</a>'\n",
              "            + ' to learn more about interactive tables.';\n",
              "          element.innerHTML = '';\n",
              "          dataTable['output_type'] = 'display_data';\n",
              "          await google.colab.output.renderOutput(dataTable, element);\n",
              "          const docLink = document.createElement('div');\n",
              "          docLink.innerHTML = docLinkHtml;\n",
              "          element.appendChild(docLink);\n",
              "        }\n",
              "      </script>\n",
              "    </div>\n",
              "  </div>\n",
              "  "
            ],
            "text/plain": [
              "    Company  ...          Cost Structure Tags\n",
              "0  3RD Home  ...  variable cost | fixed cost \n",
              "\n",
              "[1 rows x 25 columns]"
            ]
          },
          "metadata": {},
          "execution_count": 44
        }
      ]
    },
    {
      "cell_type": "code",
      "source": [
        "df.info()"
      ],
      "metadata": {
        "colab": {
          "base_uri": "https://localhost:8080/"
        },
        "id": "Artub__jlU3O",
        "outputId": "18e9b70c-cdbd-4e4f-eff7-0f2c2d83be47"
      },
      "execution_count": null,
      "outputs": [
        {
          "output_type": "stream",
          "name": "stdout",
          "text": [
            "<class 'pandas.core.frame.DataFrame'>\n",
            "Int64Index: 826 entries, 0 to 1078\n",
            "Data columns (total 25 columns):\n",
            " #   Column                       Non-Null Count  Dtype \n",
            "---  ------                       --------------  ----- \n",
            " 0   Company                      826 non-null    object\n",
            " 1   Country                      826 non-null    object\n",
            " 2   Foundations date             826 non-null    object\n",
            " 3   Type                         826 non-null    object\n",
            " 4   Sector                       826 non-null    object\n",
            " 5   Categories                   826 non-null    object\n",
            " 6   Tags                         826 non-null    object\n",
            " 7   Customer Segments            826 non-null    object\n",
            " 8   Value Propositions           826 non-null    object\n",
            " 9   Channels                     826 non-null    object\n",
            " 10  Customer Relationships       826 non-null    object\n",
            " 11  Revenue Streams              826 non-null    object\n",
            " 12  Key Resources                826 non-null    object\n",
            " 13  Key Activities               826 non-null    object\n",
            " 14  Key Partnerships             826 non-null    object\n",
            " 15  Cost Structure               826 non-null    object\n",
            " 16  Customer Segments Tags       826 non-null    object\n",
            " 17  Value Propositions Tags      826 non-null    object\n",
            " 18  Channels Tags                826 non-null    object\n",
            " 19  Customer Relationships Tags  826 non-null    object\n",
            " 20  Revenue Streams Tags         826 non-null    object\n",
            " 21  Key Resources Tags           826 non-null    object\n",
            " 22  Key Activities Tags          826 non-null    object\n",
            " 23  Key Partnerships Tags        826 non-null    object\n",
            " 24  Cost Structure Tags          826 non-null    object\n",
            "dtypes: object(25)\n",
            "memory usage: 167.8+ KB\n"
          ]
        }
      ]
    },
    {
      "cell_type": "markdown",
      "source": [
        "# Customer Segments Tags"
      ],
      "metadata": {
        "id": "u1xHXCKz4arl"
      }
    },
    {
      "cell_type": "code",
      "source": [
        "cust_seg_count = {'niche': 0, 'segmented' : 0, 'multi-sided': 0, 'mass' : 0, 'diversified' : 0}\n",
        "for i in df['Customer Segments Tags']:\n",
        "  arr = []\n",
        "  arr = i.split('|')\n",
        "  for j in arr:\n",
        "    if 'niche' in j:\n",
        "      cust_seg_count['niche'] += 1\n",
        "    if 'segmented' in j:\n",
        "      cust_seg_count['segmented'] += 1\n",
        "    if 'multi-sided' in j:\n",
        "      cust_seg_count['multi-sided'] += 1\n",
        "    if 'diversified' in j:\n",
        "      cust_seg_count['diversified'] += 1\n",
        "    if 'mass' in j:\n",
        "      cust_seg_count['mass'] += 1\n",
        "print(cust_seg_count)"
      ],
      "metadata": {
        "colab": {
          "base_uri": "https://localhost:8080/"
        },
        "id": "G5HEyO1mmOJ3",
        "outputId": "0b33a60c-a542-494a-bfd4-ff572b6c198f"
      },
      "execution_count": null,
      "outputs": [
        {
          "output_type": "stream",
          "name": "stdout",
          "text": [
            "{'niche': 914, 'segmented': 1100, 'multi-sided': 211, 'mass': 611, 'diversified': 311}\n"
          ]
        }
      ]
    },
    {
      "cell_type": "markdown",
      "source": [
        "# Value Propositions Tags"
      ],
      "metadata": {
        "id": "Wl--OCch4hOX"
      }
    },
    {
      "cell_type": "code",
      "source": [
        "val_prop_count = {'newness': 0, 'performance' : 0, 'customization': 0,\n",
        "                  '0-to-100' : 0, 'design' : 0, 'brand/status' : 0,\n",
        "                  'price' : 0 , 'cost reduction' : 0, 'risk reduction' : 0,\n",
        "                  'accessibility': 0, 'convenience/usability' : 0}\n",
        "for i in df['Value Propositions Tags']:\n",
        "  arr = []\n",
        "  arr = i.split('|')\n",
        "  for j in arr:\n",
        "    if 'newness' in j:\n",
        "      val_prop_count['newness'] += 1\n",
        "    if 'performance' in j:\n",
        "      val_prop_count['performance'] += 1\n",
        "    if 'customization' in j:\n",
        "      val_prop_count['customization'] += 1\n",
        "    if '0-to-100' in j:\n",
        "      val_prop_count['0-to-100'] += 1\n",
        "    if 'design' in j:\n",
        "      val_prop_count['design'] += 1\n",
        "    if 'brand/status' in j or 'brand' in j or 'status' in j:\n",
        "      val_prop_count['brand/status'] += 1\n",
        "    if 'price' in j:\n",
        "      val_prop_count['price'] += 1\n",
        "    if 'cost reduction' in j:\n",
        "      val_prop_count['cost reduction'] += 1\n",
        "    if 'risk reduction' in j:\n",
        "      val_prop_count['risk reduction'] += 1\n",
        "    if 'accessibility' in j:\n",
        "      val_prop_count['accessibility'] += 1\n",
        "    if 'convenience/usability' in j or 'convenience' in j or 'usability' in j:\n",
        "      val_prop_count['convenience/usability'] += 1\n",
        "print(val_prop_count)"
      ],
      "metadata": {
        "colab": {
          "base_uri": "https://localhost:8080/"
        },
        "id": "Uh8OXUao5PK-",
        "outputId": "de47ca4f-887e-4f33-e48f-88c170a4959e"
      },
      "execution_count": null,
      "outputs": [
        {
          "output_type": "stream",
          "name": "stdout",
          "text": [
            "{'newness': 529, 'performance': 871, 'customization': 382, '0-to-100': 99, 'design': 175, 'brand/status': 253, 'price': 192, 'cost reduction': 221, 'risk reduction': 217, 'accessibility': 491, 'convenience/usability': 693}\n"
          ]
        }
      ]
    },
    {
      "cell_type": "markdown",
      "source": [
        "# Channels Tags"
      ],
      "metadata": {
        "id": "67XninyF4kiG"
      }
    },
    {
      "cell_type": "code",
      "source": [
        ""
      ],
      "metadata": {
        "id": "3b2OMyOA5Pkl"
      },
      "execution_count": null,
      "outputs": []
    },
    {
      "cell_type": "markdown",
      "source": [
        "# Customer Relationships Tags"
      ],
      "metadata": {
        "id": "w1MfcuK543f3"
      }
    },
    {
      "cell_type": "code",
      "source": [
        ""
      ],
      "metadata": {
        "id": "0MCq0H2i5QDB"
      },
      "execution_count": null,
      "outputs": []
    },
    {
      "cell_type": "markdown",
      "source": [
        "# Revenue Streams Tags"
      ],
      "metadata": {
        "id": "4Cr70UGr44oV"
      }
    },
    {
      "cell_type": "code",
      "source": [
        ""
      ],
      "metadata": {
        "id": "t3aKbi8z5Qqu"
      },
      "execution_count": null,
      "outputs": []
    },
    {
      "cell_type": "markdown",
      "source": [
        "# Key Resources Tags"
      ],
      "metadata": {
        "id": "rqsv0hkV4969"
      }
    },
    {
      "cell_type": "code",
      "source": [
        ""
      ],
      "metadata": {
        "id": "Pi5ntDRv5RHW"
      },
      "execution_count": null,
      "outputs": []
    },
    {
      "cell_type": "markdown",
      "source": [
        "# Key Activities Tags"
      ],
      "metadata": {
        "id": "bpdz1YLw5BOw"
      }
    },
    {
      "cell_type": "code",
      "source": [
        ""
      ],
      "metadata": {
        "id": "CpRdhUSh5RqO"
      },
      "execution_count": null,
      "outputs": []
    },
    {
      "cell_type": "markdown",
      "source": [
        "# Key Partnerships Tags"
      ],
      "metadata": {
        "id": "nN860RNM5Go2"
      }
    },
    {
      "cell_type": "code",
      "source": [
        ""
      ],
      "metadata": {
        "id": "BrUFx5H05SFF"
      },
      "execution_count": null,
      "outputs": []
    },
    {
      "cell_type": "markdown",
      "source": [
        "# Cost Structure Tags"
      ],
      "metadata": {
        "id": "dUGtOzP-5Lju"
      }
    },
    {
      "cell_type": "code",
      "source": [
        ""
      ],
      "metadata": {
        "id": "1G3eMmcc4zd1"
      },
      "execution_count": null,
      "outputs": []
    }
  ]
}